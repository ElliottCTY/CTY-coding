{
 "cells": [
  {
   "cell_type": "code",
   "execution_count": null,
   "metadata": {},
   "outputs": [],
   "source": [
    "miles=26.2\n",
    "ftPerMile=5280\n",
    "kmPerMile=1.60934\n",
    "cmPerMile=160934\n",
    "inPerMile=63360\n",
    "mmPerMile=1.609*10**6\n",
    "\n"
   ]
  },
  {
   "cell_type": "markdown",
   "metadata": {},
   "source": [
    "\n"
   ]
  },
  {
   "cell_type": "code",
   "execution_count": null,
   "metadata": {},
   "outputs": [],
   "source": [
    "print(f'{miles} miles \\n{ftPerMile*miles} feet \\n{kmPerMile*miles} kilometers \\n{cmPerMile*miles} cemtimeters \\n{inPerMile*miles} inches \\n{mmPerMile*miles} milimeters')"
   ]
  },
  {
   "cell_type": "code",
   "execution_count": 2,
   "metadata": {},
   "outputs": [
    {
     "name": "stdout",
     "output_type": "stream",
     "text": [
      "555\n"
     ]
    }
   ],
   "source": [
    "x=\"5\"\n",
    "print(3*x)"
   ]
  },
  {
   "cell_type": "code",
   "execution_count": null,
   "metadata": {},
   "outputs": [],
   "source": [
    "x=input(\"name >> \")\n",
    "y=input(\"age >> \")\n",
    "print(\"hello\",x,\"you are\",y,\"years old\")\n",
    "print(\"hello\",x,\"you are\",y,\"years old\",sep=\"***\")\n",
    "print(\"hello\",x,\"you are\",y,\"years old\",sep=\"***\",end=\"!!!\")\n",
    "print(\"hello\",x,\"you are\",y,\"years old\",sep=\"***\",end=\"!!!\\n\")\n",
    "print(\"hello\",x,\"you are\",y,\"years old \\n\",sep=\"***\",end=\"!!!\")"
   ]
  }
 ],
 "metadata": {
  "kernelspec": {
   "display_name": "Python 3",
   "language": "python",
   "name": "python3"
  },
  "language_info": {
   "codemirror_mode": {
    "name": "ipython",
    "version": 3
   },
   "file_extension": ".py",
   "mimetype": "text/x-python",
   "name": "python",
   "nbconvert_exporter": "python",
   "pygments_lexer": "ipython3",
   "version": "3.9.6"
  }
 },
 "nbformat": 4,
 "nbformat_minor": 2
}
