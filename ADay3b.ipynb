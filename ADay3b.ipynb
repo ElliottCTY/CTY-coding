{
 "cells": [
  {
   "cell_type": "code",
   "execution_count": 35,
   "metadata": {},
   "outputs": [],
   "source": [
    "import random\n",
    "import string"
   ]
  },
  {
   "cell_type": "code",
   "execution_count": 36,
   "metadata": {},
   "outputs": [
    {
     "name": "stdout",
     "output_type": "stream",
     "text": [
      "119866\n"
     ]
    }
   ],
   "source": [
    "x=random.randint(100000,999999)\n",
    "print(x)"
   ]
  },
  {
   "cell_type": "code",
   "execution_count": 39,
   "metadata": {},
   "outputs": [
    {
     "name": "stdout",
     "output_type": "stream",
     "text": [
      "last name\n",
      " E \n",
      "\n",
      "first name\n",
      " E \n",
      "\n",
      "birth place\n",
      " E \n",
      "\n",
      "birth date\n",
      " E \n",
      "\n",
      "gender\n",
      " E \n",
      "\n",
      "passport number\n",
      "TV444987\n"
     ]
    }
   ],
   "source": [
    "last=input(\"last name is >> \").upper()\n",
    "first=input(\"first name is >> \").upper()\n",
    "origin=input(\"birth location is >> \").upper()\n",
    "birth=input(\"birth date is dd/mm/yyyy >> \").upper()\n",
    "sex=input(\"gender is >> \").upper()\n",
    "x=random.randint(100000,999999)\n",
    "randomLetter1=random.choice(string.ascii_letters).upper()\n",
    "randomLetter2=random.choice(string.ascii_letters).upper()\n",
    "passportNum=x\n",
    "print(\"last name\\n\",last,\"\\n\\nfirst name\\n\",first,\"\\n\\nbirth place\\n\",origin,\"\\n\\nbirth date\\n\",birth,\"\\n\\ngender\\n\",sex,\"\\n\")\n",
    "print(f'passport number\\n{randomLetter1}{randomLetter2}{passportNum}')\n"
   ]
  }
 ],
 "metadata": {
  "kernelspec": {
   "display_name": "Python 3",
   "language": "python",
   "name": "python3"
  },
  "language_info": {
   "codemirror_mode": {
    "name": "ipython",
    "version": 3
   },
   "file_extension": ".py",
   "mimetype": "text/x-python",
   "name": "python",
   "nbconvert_exporter": "python",
   "pygments_lexer": "ipython3",
   "version": "3.9.6"
  }
 },
 "nbformat": 4,
 "nbformat_minor": 2
}
