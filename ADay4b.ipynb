{
 "cells": [
  {
   "cell_type": "code",
   "execution_count": null,
   "metadata": {},
   "outputs": [],
   "source": [
    "score=(input(\"grade >> \"))\n",
    "\n",
    "if int(score)>=0 and int(score)<=59:\n",
    "    print(\"F\")\n",
    "elif int(score)>=60 and int(score)<=69:\n",
    "    print(\"D\")\n",
    "elif int(score)>=70 and int(score)<=79:\n",
    "    print(\"C\")\n",
    "elif int(score)>=80 and int(score)<=89:\n",
    "    print(\"B\")\n",
    "elif int(score)>=90 and int(score)<=100:\n",
    "    print(\"A\")\n",
    "else:\n",
    "    print(\"error\")"
   ]
  },
  {
   "cell_type": "code",
   "execution_count": 2,
   "metadata": {},
   "outputs": [],
   "source": [
    "import math\n",
    "num=input(\"number >> \")"
   ]
  },
  {
   "cell_type": "code",
   "execution_count": 4,
   "metadata": {},
   "outputs": [
    {
     "name": "stdout",
     "output_type": "stream",
     "text": [
      "integer is: 5467389\n",
      "number is positive: True\n",
      "number is negative: False\n",
      "number is zero: False\n",
      "number is even: False\n",
      "number is odd: True\n",
      "number is divisible by 3: True\n",
      "number has an absolute value less than 1000: False\n"
     ]
    }
   ],
   "source": [
    "\n",
    "\n",
    "try:\n",
    "    num=int(num)\n",
    "    print(\"integer is:\",num)\n",
    "    positive=(num)>0\n",
    "    print(\"number is positive:\",positive)\n",
    "    negative=(num)<0\n",
    "    print(\"number is negative:\",negative)\n",
    "    zero=(num)==0\n",
    "    print(\"number is zero:\",zero)\n",
    "    even=(num)%2==0\n",
    "    print(\"number is even:\",even)\n",
    "    odd=(num)%2==1\n",
    "    print(\"number is odd:\",odd)\n",
    "    three=(num)%3==0\n",
    "    print(\"number is divisible by 3:\",three)\n",
    "    absolute=((num)**2)/(num)<1000\n",
    "    print(\"number has an absolute value less than 1000:\",absolute)\n",
    "except:\n",
    "    try:\n",
    "      num=float(num)\n",
    "      print(\"float is:\",num)\n",
    "      fraction=(num)- (math.floor(num))\n",
    "      print(\"fraction is:\",fraction)\n",
    "      positive=(num)>0\n",
    "      print(\"number is positive:\",positive)\n",
    "      negative=(num)<0\n",
    "      print(\"number is negative:\",negative)\n",
    "      absolute=((num)**2)/(num)<1000\n",
    "      print(\"number has an absolute value less than 1000:\",absolute)\n",
    "    except:\n",
    "       print(\"not an integer or a float\")\n",
    "\n",
    "\n",
    "\n",
    "\n",
    "\n"
   ]
  },
  {
   "cell_type": "markdown",
   "metadata": {},
   "source": [
    "positive or negative\n",
    "equal to 0\n",
    "even or odd\n",
    "integer or float\n",
    "divisible by 3\n",
    "absolute value of 1000"
   ]
  }
 ],
 "metadata": {
  "kernelspec": {
   "display_name": "Python 3",
   "language": "python",
   "name": "python3"
  },
  "language_info": {
   "codemirror_mode": {
    "name": "ipython",
    "version": 3
   },
   "file_extension": ".py",
   "mimetype": "text/x-python",
   "name": "python",
   "nbconvert_exporter": "python",
   "pygments_lexer": "ipython3",
   "version": "3.9.6"
  }
 },
 "nbformat": 4,
 "nbformat_minor": 2
}
